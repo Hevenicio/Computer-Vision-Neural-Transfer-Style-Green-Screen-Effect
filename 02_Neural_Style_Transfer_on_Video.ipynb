{
 "cells": [
  {
   "cell_type": "code",
   "execution_count": 1,
   "metadata": {},
   "outputs": [],
   "source": [
    "# Import Libraries\n",
    "import numpy as np\n",
    "import cv2"
   ]
  },
  {
   "cell_type": "code",
   "execution_count": 2,
   "metadata": {},
   "outputs": [],
   "source": [
    "# Generating Function\n",
    "def Neural_Style_Transfer(img, model, size = 320, upscale = 1):\n",
    "    \n",
    "    model_file_path = './Models/'\n",
    "    style = cv2.imread('./Art/' + str(model)[:-3] + '.jpg')\n",
    "\n",
    "    # Load Neural Style Transfer Model\n",
    "    neural_style_model = cv2.dnn.readNetFromTorch(model_file_path + model + '.t7')\n",
    "\n",
    "    # Resize to fix height. You can change it as you want\n",
    "    height, width = int(img.shape[0]), int(img.shape[1])\n",
    "    new_width = int((size/height)*width)\n",
    "    resized_image = cv2.resize(img,\n",
    "                               (new_width, size),\n",
    "                               interpolation = cv2.INTER_AREA)\n",
    "\n",
    "    # Create our blob from the image\n",
    "    # Perform a forward pass run of the network\n",
    "    inp_blob = cv2.dnn.blobFromImage(resized_image,\n",
    "                                     1.0,\n",
    "                                     (new_width, size),\n",
    "                                     (103.93, 116.77, 123.68),\n",
    "                                     swapRB = False,\n",
    "                                     crop = False)\n",
    "\n",
    "    neural_style_model.setInput(inp_blob)\n",
    "    output = neural_style_model.forward()\n",
    "\n",
    "    # Reshape the output Tensor,\n",
    "    # Add back the Mean Substruction\n",
    "    # Re-order the channels\n",
    "    output = output.reshape(3, output.shape[2], output.shape[3])\n",
    "    output[0] += 103.93\n",
    "    output[1] += 116.77\n",
    "    output[2] += 123.68\n",
    "    output /= 255\n",
    "    output = output.transpose(1, 2, 0)\n",
    "    output = cv2.resize(output,\n",
    "                        None,\n",
    "                        fx = upscale,\n",
    "                        fy = upscale,\n",
    "                        interpolation = cv2.INTER_LINEAR)"
   ]
  },
  {
   "cell_type": "code",
   "execution_count": 3,
   "metadata": {},
   "outputs": [],
   "source": [
    "# Open the Video\n",
    "# If you want to see yourself from your webcam\n",
    "# replace the string inside the parenthesis\n",
    "# with number 0\n",
    "# it should be: VideoCapture(0)\n",
    "cap = cv2.VideoCapture('./Videos/run.mp4')\n",
    "\n",
    "# Our Style Transfers are:\n",
    "# la_muse, feathers, composition_vii, mosaic, the_scream, udnie, starry_night, candy, the_wave"
   ]
  },
  {
   "cell_type": "code",
   "execution_count": null,
   "metadata": {},
   "outputs": [],
   "source": [
    "# While loop\n",
    "while True:\n",
    "    # Read the frame\n",
    "    ret, frame = cap.read()\n",
    "    \n",
    "    # Display the output\n",
    "    cv2.imshow('Neural Transfer Style Video',\n",
    "               Neural_Style_Transfer(frame,\n",
    "                                     'starry_night',\n",
    "                                     320,\n",
    "                                     2))\n",
    "    # Close the frame\n",
    "    if cv2.waitKey(0) & 0xFF == 27:\n",
    "        break\n",
    "    \n",
    "# Release and Destroy\n",
    "cap.release()\n",
    "cv2.destroyAllWindows()"
   ]
  }
 ],
 "metadata": {
  "kernelspec": {
   "display_name": "Python 3",
   "language": "python",
   "name": "python3"
  },
  "language_info": {
   "codemirror_mode": {
    "name": "ipython",
    "version": 3
   },
   "file_extension": ".py",
   "mimetype": "text/x-python",
   "name": "python",
   "nbconvert_exporter": "python",
   "pygments_lexer": "ipython3",
   "version": "3.8.3"
  }
 },
 "nbformat": 4,
 "nbformat_minor": 2
}
